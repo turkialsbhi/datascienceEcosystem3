{
  "metadata": {
    "kernelspec": {
      "name": "python",
      "display_name": "Python (Pyodide)",
      "language": "python"
    },
    "language_info": {
      "codemirror_mode": {
        "name": "python",
        "version": 3
      },
      "file_extension": ".py",
      "mimetype": "text/x-python",
      "name": "python",
      "nbconvert_exporter": "python",
      "pygments_lexer": "ipython3",
      "version": "3.8"
    }
  },
  "nbformat_minor": 4,
  "nbformat": 4,
  "cells": [
    {
      "cell_type": "markdown",
      "source": "## notebooktitle\n\n",
      "metadata": {}
    },
    {
      "cell_type": "markdown",
      "source": "data science tools ecosystem",
      "metadata": {}
    },
    {
      "cell_type": "markdown",
      "source": "## introduction\n\n\n\n",
      "metadata": {
        "jp-MarkdownHeadingCollapsed": true
      }
    },
    {
      "cell_type": "code",
      "source": "## paython\n## r\n## java \n## Julia\n## interconnected elements or componentsn that process da",
      "metadata": {
        "trusted": true
      },
      "outputs": [],
      "execution_count": 20
    },
    {
      "cell_type": "markdown",
      "source": "## data science libraries\n",
      "metadata": {
        "jp-MarkdownHeadingCollapsed": true
      }
    },
    {
      "cell_type": "code",
      "source": "## Add an overview line to the cell like:\n##TensorFlow\n##NumPy\n##Pandas\n",
      "metadata": {
        "trusted": true
      },
      "outputs": [],
      "execution_count": 19
    },
    {
      "cell_type": "markdown",
      "source": "## data science languages\n\n",
      "metadata": {
        "jp-MarkdownHeadingCollapsed": true
      }
    },
    {
      "cell_type": "code",
      "source": "## paython\n## r\n## java \n## sQl\n## Julia",
      "metadata": {
        "trusted": true
      },
      "outputs": [],
      "execution_count": 3
    },
    {
      "cell_type": "markdown",
      "source": "## data science tools\n",
      "metadata": {}
    },
    {
      "cell_type": "markdown",
      "source": "| data science tools |\n|---------|\n|SAS. It is one of those data science tools which are specifically designed for statistical operation\t\t\nApache Spark\t\t\nBigML|\n\n\n",
      "metadata": {}
    },
    {
      "cell_type": "markdown",
      "source": "## introduction arithmetic expression",
      "metadata": {}
    },
    {
      "cell_type": "code",
      "source": "# Arithmetic operations\ncode = compile(\"5 + 4\", \"<string>\", \"eval\")\neval(code)\n# Result: 9",
      "metadata": {
        "trusted": true
      },
      "outputs": [
        {
          "execution_count": 15,
          "output_type": "execute_result",
          "data": {
            "text/plain": "9"
          },
          "metadata": {}
        }
      ],
      "execution_count": 15
    },
    {
      "cell_type": "markdown",
      "source": "## multip and add numbers",
      "metadata": {}
    },
    {
      "cell_type": "code",
      "source": "(3*4)+5",
      "metadata": {
        "trusted": true
      },
      "outputs": [
        {
          "execution_count": 16,
          "output_type": "execute_result",
          "data": {
            "text/plain": "17"
          },
          "metadata": {}
        }
      ],
      "execution_count": 16
    },
    {
      "cell_type": "markdown",
      "source": "## convert minutes to hours",
      "metadata": {}
    },
    {
      "cell_type": "code",
      "source": "def convert_minutes_to_hors(minutes):\n    hors=miinutes//60\n    remaining_minutes=minutrs % 60\n    return hors, remaining_minutes\n    #تحويل 200دقية\n    minutes=200\n    hors,remaining_minutes= convert_minutes_to_hors(minutes)\n    print(f\"(hors),Hours/hour{remaining_miuntes} minutes/minute\")",
      "metadata": {
        "trusted": true
      },
      "outputs": [],
      "execution_count": null
    },
    {
      "cell_type": "markdown",
      "source": "## list objectives",
      "metadata": {}
    },
    {
      "cell_type": "markdown",
      "source": "*Objectives:*\n- Understand the fundamentals of Data Science\n- List popular languages for Data Science, such as Python and R\n- Explore various data visualization techniques\n- Learn about machine learning algorithms\n- Apply data science techniques to real-world problems\n",
      "metadata": {}
    },
    {
      "cell_type": "markdown",
      "source": "## indicate the Author’s name",
      "metadata": {}
    },
    {
      "cell_type": "markdown",
      "source": "NAEM\nGermanoCosta",
      "metadata": {}
    }
  ]
}